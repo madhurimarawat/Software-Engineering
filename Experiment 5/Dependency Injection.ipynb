{
 "cells": [
  {
   "cell_type": "markdown",
   "id": "bd73ff1a",
   "metadata": {},
   "source": [
    "## Experiment 5\n",
    "\n",
    "###  Dependency Injection: Practice dependency injection techniques in Python using libraries like dependency-injector to isolate and test individual components of a software system. "
   ]
  },
  {
   "cell_type": "markdown",
   "id": "d5774c42",
   "metadata": {},
   "source": [
    "## Dependency Injection in Python\n",
    "\n",
    "## Overview\n",
    "\n",
    "Dependency Injection (DI) is a design pattern used to implement Inversion of Control (IoC), allowing for better separation of concerns, increased modularity, and improved testability of software components. In DI, an object's dependencies are provided externally rather than the object creating them itself. This makes it easier to swap out implementations, which is particularly useful for testing and maintaining code.\n",
    "\n",
    "### Code Explanation\n",
    "\n",
    "Below is an example that demonstrates how to implement dependency injection in a simple calculator application. In this example, we will create a `CalculatorService` that relies on the `Calculator` class. We will inject the `Calculator` instance into the `CalculatorService` via its constructor.\n",
    "\n",
    "### Explanation of the Code:\n",
    "\n",
    "1. **Calculator Class**:\n",
    "   - The `Calculator` class contains methods for basic arithmetic operations (addition and subtraction).\n",
    "\n",
    "2. **CalculatorService Class**:\n",
    "   - The `CalculatorService` class uses an instance of `Calculator` to perform operations. It is initialized with a `Calculator` instance through dependency injection.\n",
    "\n",
    "3. **Dependency Injection Container**:\n",
    "   - The `Container` class defines a DI container using `dependency-injector`. It provides factories for creating instances of `Calculator` and `CalculatorService`.\n",
    "\n",
    "4. **Usage**:\n",
    "   - The container is instantiated, and the `CalculatorService` is obtained from the container. The `perform_addition` and `perform_subtraction` methods are then called to demonstrate the usage.\n",
    "\n",
    "## Real-Life Use Cases of Dependency Injection\n",
    "\n",
    "### 1. **Web Applications**:\n",
    "   - **Scenario**: In a web application that interacts with different data sources (like databases, APIs).\n",
    "   - **Use Case**: By injecting repository or service classes into controllers, you can easily swap out implementations (e.g., mocking in tests) and maintain a clean separation of concerns.\n",
    "\n",
    "### 2. **Microservices**:\n",
    "   - **Scenario**: In a microservices architecture where services communicate with each other.\n",
    "   - **Use Case**: Use DI to inject service clients, allowing you to mock these clients in tests, improving the testability of your services without needing to start actual services.\n",
    "\n",
    "### 3. **Configuration Management**:\n",
    "   - **Scenario**: When configuring application settings or services.\n",
    "   - **Use Case**: Use dependency injection to manage configurations that may change depending on the environment (development, testing, production). This allows for easier configuration management and testing.\n",
    "\n",
    "### 4. **Testing**:\n",
    "   - **Scenario**: When writing unit tests for classes that depend on external services or components.\n",
    "   - **Use Case**: By injecting mock or stub implementations, you can test the class in isolation, ensuring that the tests focus on its logic without being affected by external components.\n",
    "\n",
    "### 5. **Event-Driven Systems**:\n",
    "   - **Scenario**: In systems that rely on event handlers for processing data.\n",
    "   - **Use Case**: Dependency injection can be used to inject different event handlers into the main processing logic, allowing for easy swapping and testing of event processing strategies.\n",
    "\n",
    "## Conclusion\n",
    "\n",
    "Dependency Injection is a powerful pattern that promotes modularity and testability in software development. By separating the creation of dependencies from their usage, you can create more maintainable and flexible systems. In combination with mocking, DI allows for comprehensive testing strategies that can greatly enhance the quality of your applications."
   ]
  },
  {
   "cell_type": "code",
   "execution_count": 1,
   "id": "e2bad6c2",
   "metadata": {},
   "outputs": [
    {
     "name": "stdout",
     "output_type": "stream",
     "text": [
      "Addition Result: 5\n",
      "Subtraction Result: 3\n"
     ]
    }
   ],
   "source": [
    "from dependency_injector import containers, providers\n",
    "\n",
    "# Defining the Calculator class\n",
    "class Calculator:\n",
    "    def add(self, a, b):\n",
    "        return a + b\n",
    "\n",
    "    def subtract(self, a, b):\n",
    "        return a - b\n",
    "\n",
    "# Defining a service that uses the Calculator class\n",
    "class CalculatorService:\n",
    "    def __init__(self, calculator: Calculator):\n",
    "        self.calculator = calculator\n",
    "\n",
    "    def perform_addition(self, a, b):\n",
    "        return self.calculator.add(a, b)\n",
    "\n",
    "    def perform_subtraction(self, a, b):\n",
    "        return self.calculator.subtract(a, b)\n",
    "\n",
    "# Defining a Dependency Injection container\n",
    "class Container(containers.DeclarativeContainer):\n",
    "    calculator = providers.Factory(Calculator)\n",
    "    calculator_service = providers.Factory(CalculatorService, calculator=calculator)\n",
    "\n",
    "# Usage\n",
    "if __name__ == \"__main__\":\n",
    "    container = Container()\n",
    "    calculator_service = container.calculator_service()\n",
    "\n",
    "    # Example operations\n",
    "    result_add = calculator_service.perform_addition(2, 3)\n",
    "    result_subtract = calculator_service.perform_subtraction(5, 2)\n",
    "\n",
    "    print(f\"Addition Result: {result_add}\")      # Output: Addition Result: 5\n",
    "    print(f\"Subtraction Result: {result_subtract}\")  # Output: Subtraction Result: 3"
   ]
  },
  {
   "cell_type": "code",
   "execution_count": null,
   "id": "5e053ed2",
   "metadata": {},
   "outputs": [],
   "source": []
  }
 ],
 "metadata": {
  "kernelspec": {
   "display_name": "Python 3 (ipykernel)",
   "language": "python",
   "name": "python3"
  },
  "language_info": {
   "codemirror_mode": {
    "name": "ipython",
    "version": 3
   },
   "file_extension": ".py",
   "mimetype": "text/x-python",
   "name": "python",
   "nbconvert_exporter": "python",
   "pygments_lexer": "ipython3",
   "version": "3.11.4"
  }
 },
 "nbformat": 4,
 "nbformat_minor": 5
}

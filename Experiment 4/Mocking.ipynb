{
 "cells": [
  {
   "cell_type": "markdown",
   "id": "0b3b385b",
   "metadata": {},
   "source": [
    "## Experiment 4\n",
    "\n",
    "### Mocking : Practice mocking techniques in Python using libraries like unittest.mock to isolate and test individual components of a software system. "
   ]
  },
  {
   "cell_type": "markdown",
   "id": "d6cae2fc",
   "metadata": {},
   "source": [
    "## Mocking in Unit Testing\n",
    "\n",
    "## Overview\n",
    "\n",
    "Mocking is a technique used in unit testing to simulate the behavior of real objects. It allows you to isolate the component being tested from its dependencies, ensuring that tests focus on the functionality of that specific component. This is especially useful when dealing with complex systems where external components (like databases, APIs, or services) can introduce variability and dependencies that can affect test outcomes.\n",
    "\n",
    "### Code Explanation\n",
    "\n",
    "The provided code demonstrates how to use mocking in Python's unit testing framework (`unittest`). Here’s a breakdown of the code:\n",
    "\n",
    "```python\n",
    "import unittest\n",
    "from unittest.mock import MagicMock\n",
    "\n",
    "# Defining the Calculator class within the notebook\n",
    "class Calculator:\n",
    "    def add(self, a, b):\n",
    "        return a + b\n",
    "\n",
    "    def subtract(self, a, b):\n",
    "        return a - b\n",
    "```\n",
    "\n",
    "1. **Calculator Class**: \n",
    "   - The `Calculator` class has two methods: `add` and `subtract`, which perform basic arithmetic operations.\n",
    "\n",
    "```python\n",
    "class TestCalculator(unittest.TestCase):\n",
    "    def test_add_method_is_called(self):\n",
    "        # Create an instance of Calculator\n",
    "        calc = Calculator()\n",
    "        \n",
    "        # Mock the add method\n",
    "        calc.add = MagicMock(return_value=10)\n",
    "        \n",
    "        # Call the method\n",
    "        result = calc.add(2, 3)\n",
    "        \n",
    "        # Assert that the add method was called once with the arguments 2, 3\n",
    "        calc.add.assert_called_once_with(2, 3)\n",
    "        \n",
    "        # Assert that the result is the mocked return value (10)\n",
    "        self.assertEqual(result, 10)\n",
    "```\n",
    "\n",
    "2. **Test Class**:\n",
    "   - `TestCalculator` is a subclass of `unittest.TestCase` and contains test methods.\n",
    "\n",
    "3. **Mocking the Add Method**:\n",
    "   - The `add` method of the `Calculator` instance is replaced with a mock object using `MagicMock`. This mock object is configured to return `10` whenever it's called.\n",
    "\n",
    "4. **Calling and Asserting**:\n",
    "   - The mocked `add` method is called with arguments `2` and `3`. The test then checks whether the method was called with the expected arguments and whether the result matches the mocked return value.\n",
    "\n",
    "### Running the Tests\n",
    "The tests are executed using:\n",
    "\n",
    "```python\n",
    "unittest.TextTestRunner().run(unittest.TestLoader().loadTestsFromTestCase(TestCalculator))\n",
    "```\n",
    "\n",
    "This command runs the tests in a format compatible with Jupyter notebooks.\n",
    "\n",
    "## Real-Life Use Cases of Mocking\n",
    "\n",
    "### 1. **Web Application Development**:\n",
    "   - **Scenario**: When building a web application that interacts with an external API (e.g., payment gateways).\n",
    "   - **Use Case**: Instead of making actual API calls in your tests, you can mock the API responses. This allows you to test how your application handles different scenarios (success, failure, timeouts) without relying on the external service.\n",
    "\n",
    "### 2. **Database Operations**:\n",
    "   - **Scenario**: When developing applications that require database access (e.g., ORM models).\n",
    "   - **Use Case**: Mocking database queries can help you test data manipulation methods without needing an actual database. This can speed up tests and avoid complications from database state changes.\n",
    "\n",
    "### 3. **Third-Party Services**:\n",
    "   - **Scenario**: When integrating with third-party services like cloud storage or email providers.\n",
    "   - **Use Case**: You can mock these services to simulate the behavior of their APIs, allowing you to test error handling and other logic without incurring costs or needing internet access.\n",
    "\n",
    "### 4. **Complex Business Logic**:\n",
    "   - **Scenario**: When an application has multiple layers (e.g., services, repositories).\n",
    "   - **Use Case**: You can mock dependencies between layers to test a single unit in isolation. This helps ensure that the unit performs correctly regardless of other components.\n",
    "\n",
    "## Conclusion\n",
    "\n",
    "Mocking is a powerful technique in unit testing that helps isolate components, improve test reliability, and reduce dependencies on external systems. By using mocking, developers can create robust tests that simulate real-world scenarios, leading to more reliable and maintainable software."
   ]
  },
  {
   "cell_type": "code",
   "execution_count": 5,
   "id": "0e98587c",
   "metadata": {},
   "outputs": [
    {
     "name": "stderr",
     "output_type": "stream",
     "text": [
      ".\n",
      "----------------------------------------------------------------------\n",
      "Ran 1 test in 0.003s\n",
      "\n",
      "OK\n"
     ]
    },
    {
     "data": {
      "text/plain": [
       "<unittest.runner.TextTestResult run=1 errors=0 failures=0>"
      ]
     },
     "execution_count": 5,
     "metadata": {},
     "output_type": "execute_result"
    }
   ],
   "source": [
    "import unittest\n",
    "from unittest.mock import MagicMock\n",
    "\n",
    "# Defining the Calculator class within the notebook\n",
    "class Calculator:\n",
    "    def add(self, a, b):\n",
    "        return a + b\n",
    "\n",
    "    def subtract(self, a, b):\n",
    "        return a - b\n",
    "\n",
    "class TestCalculator(unittest.TestCase):\n",
    "    def test_add_method_is_called(self):\n",
    "        # Create an instance of Calculator\n",
    "        calc = Calculator()\n",
    "        \n",
    "        # Mock the add method\n",
    "        calc.add = MagicMock(return_value=10)\n",
    "        \n",
    "        # Call the method\n",
    "        result = calc.add(2, 3)\n",
    "        \n",
    "        # Assert that the add method was called once with the arguments 2, 3\n",
    "        calc.add.assert_called_once_with(2, 3)\n",
    "        \n",
    "        # Assert that the result is the mocked return value (10)\n",
    "        self.assertEqual(result, 10)\n",
    "\n",
    "# Running the tests in Jupyter (without unittest.main())\n",
    "unittest.TextTestRunner().run(unittest.TestLoader().loadTestsFromTestCase(TestCalculator))\n"
   ]
  },
  {
   "cell_type": "code",
   "execution_count": null,
   "id": "84acc419",
   "metadata": {},
   "outputs": [],
   "source": []
  }
 ],
 "metadata": {
  "kernelspec": {
   "display_name": "Python 3 (ipykernel)",
   "language": "python",
   "name": "python3"
  },
  "language_info": {
   "codemirror_mode": {
    "name": "ipython",
    "version": 3
   },
   "file_extension": ".py",
   "mimetype": "text/x-python",
   "name": "python",
   "nbconvert_exporter": "python",
   "pygments_lexer": "ipython3",
   "version": "3.11.4"
  }
 },
 "nbformat": 4,
 "nbformat_minor": 5
}
